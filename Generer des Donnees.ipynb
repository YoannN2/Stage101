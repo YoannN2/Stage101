{
 "cells": [
  {
   "cell_type": "code",
   "execution_count": 1,
   "metadata": {},
   "outputs": [],
   "source": [
    "from IPython.display import display, HTML\n",
    "\n",
    "import pandas as pd\n",
    "\n",
    "from Users import User, UserMaker\n",
    "from Articles import Article, ArticleMaker"
   ]
  },
  {
   "cell_type": "code",
   "execution_count": 2,
   "metadata": {},
   "outputs": [
    {
     "name": "stdout",
     "output_type": "stream",
     "text": [
      "3.9.2\n"
     ]
    }
   ],
   "source": [
    "from platform import python_version\n",
    "\n",
    "print(python_version())"
   ]
  },
  {
   "cell_type": "markdown",
   "metadata": {},
   "source": [
    "# Generer des donnees \n",
    "\n",
    "## Generer des Users\n",
    "\n",
    "Voir `Notebooks/Users.py` pour le code source"
   ]
  },
  {
   "cell_type": "code",
   "execution_count": 3,
   "metadata": {},
   "outputs": [
    {
     "data": {
      "text/html": [
       "<H1>Users</h1>"
      ],
      "text/plain": [
       "<IPython.core.display.HTML object>"
      ]
     },
     "metadata": {},
     "output_type": "display_data"
    },
    {
     "data": {
      "text/html": [
       "<div>\n",
       "<style scoped>\n",
       "    .dataframe tbody tr th:only-of-type {\n",
       "        vertical-align: middle;\n",
       "    }\n",
       "\n",
       "    .dataframe tbody tr th {\n",
       "        vertical-align: top;\n",
       "    }\n",
       "\n",
       "    .dataframe thead th {\n",
       "        text-align: right;\n",
       "    }\n",
       "</style>\n",
       "<table border=\"1\" class=\"dataframe\">\n",
       "  <thead>\n",
       "    <tr style=\"text-align: right;\">\n",
       "      <th></th>\n",
       "      <th>id</th>\n",
       "      <th>nom</th>\n",
       "      <th>prenom</th>\n",
       "      <th>email</th>\n",
       "      <th>tel</th>\n",
       "    </tr>\n",
       "  </thead>\n",
       "  <tbody>\n",
       "    <tr>\n",
       "      <th>0</th>\n",
       "      <td>00</td>\n",
       "      <td>One</td>\n",
       "      <td>John</td>\n",
       "      <td>j.one@lagoon.nc</td>\n",
       "      <td>43.54.32</td>\n",
       "    </tr>\n",
       "    <tr>\n",
       "      <th>1</th>\n",
       "      <td>01</td>\n",
       "      <td>Ten</td>\n",
       "      <td>George</td>\n",
       "      <td>g.ten@canl.nc</td>\n",
       "      <td>80.92.85</td>\n",
       "    </tr>\n",
       "    <tr>\n",
       "      <th>2</th>\n",
       "      <td>02</td>\n",
       "      <td>Six</td>\n",
       "      <td>Charlie</td>\n",
       "      <td>c.six@hotmail.com</td>\n",
       "      <td>67.82.78</td>\n",
       "    </tr>\n",
       "    <tr>\n",
       "      <th>3</th>\n",
       "      <td>03</td>\n",
       "      <td>Six</td>\n",
       "      <td>Eliott</td>\n",
       "      <td>e.six@canl.nc</td>\n",
       "      <td>27.36.48</td>\n",
       "    </tr>\n",
       "    <tr>\n",
       "      <th>4</th>\n",
       "      <td>04</td>\n",
       "      <td>Three</td>\n",
       "      <td>David</td>\n",
       "      <td>d.three@lagoon.nc</td>\n",
       "      <td>20.82.90</td>\n",
       "    </tr>\n",
       "  </tbody>\n",
       "</table>\n",
       "</div>"
      ],
      "text/plain": [
       "   id    nom   prenom              email       tel\n",
       "0  00    One     John    j.one@lagoon.nc  43.54.32\n",
       "1  01    Ten   George      g.ten@canl.nc  80.92.85\n",
       "2  02    Six  Charlie  c.six@hotmail.com  67.82.78\n",
       "3  03    Six   Eliott      e.six@canl.nc  27.36.48\n",
       "4  04  Three    David  d.three@lagoon.nc  20.82.90"
      ]
     },
     "metadata": {},
     "output_type": "display_data"
    },
    {
     "data": {
      "text/html": [
       "<p>15 Users saved in ../data/users.json</p>"
      ],
      "text/plain": [
       "<IPython.core.display.HTML object>"
      ]
     },
     "metadata": {},
     "output_type": "display_data"
    }
   ],
   "source": [
    "# Make 15 Users\n",
    "UM = UserMaker(n=15)\n",
    "\n",
    "# Creer un DataFrame d'utilisateur\n",
    "users = UM.to_df()\n",
    "\n",
    "# Affiche la head du DataFrame d'utilisateur\n",
    "display(HTML(\"<H1>Users</h1>\"))\n",
    "display(users.head())\n",
    "\n",
    "# Enregistrer les utilisateurs generer dans \n",
    "fn = \"../data/users.json\"\n",
    "users.to_json(fn)\n",
    "display(HTML(f\"<p>{len(users)} Users saved in {fn}</p>\"))\n"
   ]
  },
  {
   "cell_type": "markdown",
   "metadata": {},
   "source": [
    "## Generer des Articles\n",
    "\n",
    "Voir `Notebooks/Articles.py` pour le code source\n"
   ]
  },
  {
   "cell_type": "code",
   "execution_count": 4,
   "metadata": {
    "scrolled": true
   },
   "outputs": [
    {
     "data": {
      "text/html": [
       "<H1>Articles</H1>"
      ],
      "text/plain": [
       "<IPython.core.display.HTML object>"
      ]
     },
     "metadata": {},
     "output_type": "display_data"
    },
    {
     "data": {
      "text/html": [
       "<div>\n",
       "<style scoped>\n",
       "    .dataframe tbody tr th:only-of-type {\n",
       "        vertical-align: middle;\n",
       "    }\n",
       "\n",
       "    .dataframe tbody tr th {\n",
       "        vertical-align: top;\n",
       "    }\n",
       "\n",
       "    .dataframe thead th {\n",
       "        text-align: right;\n",
       "    }\n",
       "</style>\n",
       "<table border=\"1\" class=\"dataframe\">\n",
       "  <thead>\n",
       "    <tr style=\"text-align: right;\">\n",
       "      <th></th>\n",
       "      <th>id</th>\n",
       "      <th>title</th>\n",
       "      <th>description</th>\n",
       "      <th>full_text</th>\n",
       "      <th>created_date</th>\n",
       "      <th>author</th>\n",
       "      <th>image</th>\n",
       "    </tr>\n",
       "  </thead>\n",
       "  <tbody>\n",
       "    <tr>\n",
       "      <th>0</th>\n",
       "      <td>00</td>\n",
       "      <td>Adipisci eius quaerat quisquam amet modi velit...</td>\n",
       "      <td>Quisquam dolorem quiquia dolore ipsum quisquam...</td>\n",
       "      <td>Magnam tempora sed modi voluptatem adipisci ve...</td>\n",
       "      <td>29/04/2021 14:30:52</td>\n",
       "      <td>David THREE</td>\n",
       "      <td>https://picsum.photos/id/1000/400/200.jpg</td>\n",
       "    </tr>\n",
       "    <tr>\n",
       "      <th>1</th>\n",
       "      <td>01</td>\n",
       "      <td>Dolorem eius amet magnam.</td>\n",
       "      <td>Quisquam non quisquam voluptatem. Eius labore ...</td>\n",
       "      <td>Ut etincidunt velit sit dolor. Ut non dolore d...</td>\n",
       "      <td>27/04/2021 23:01:25</td>\n",
       "      <td>Ivan EIGHT</td>\n",
       "      <td>https://picsum.photos/id/1001/400/200.jpg</td>\n",
       "    </tr>\n",
       "    <tr>\n",
       "      <th>2</th>\n",
       "      <td>02</td>\n",
       "      <td>Ipsum porro porro amet dolor.</td>\n",
       "      <td>Quisquam velit sit magnam porro. Numquam tempo...</td>\n",
       "      <td>Eius eius sit eius neque eius quiquia amet. Te...</td>\n",
       "      <td>28/04/2021 04:12:46</td>\n",
       "      <td>Eliott ONE</td>\n",
       "      <td>https://picsum.photos/id/1002/400/200.jpg</td>\n",
       "    </tr>\n",
       "    <tr>\n",
       "      <th>3</th>\n",
       "      <td>03</td>\n",
       "      <td>Eius dolor amet sit ipsum quisquam.</td>\n",
       "      <td>Etincidunt voluptatem voluptatem dolor dolore ...</td>\n",
       "      <td>Modi porro sed quaerat est etincidunt. Labore ...</td>\n",
       "      <td>25/04/2021 09:50:10</td>\n",
       "      <td>Alice ONE</td>\n",
       "      <td>https://picsum.photos/id/1003/400/200.jpg</td>\n",
       "    </tr>\n",
       "    <tr>\n",
       "      <th>4</th>\n",
       "      <td>04</td>\n",
       "      <td>Dolore quiquia modi tempora ipsum labore ipsum...</td>\n",
       "      <td>Ipsum dolorem amet magnam est etincidunt neque...</td>\n",
       "      <td>Sed dolorem ut magnam consectetur. Ut quaerat ...</td>\n",
       "      <td>24/04/2021 03:02:18</td>\n",
       "      <td>Frank SIX</td>\n",
       "      <td>https://picsum.photos/id/1004/400/200.jpg</td>\n",
       "    </tr>\n",
       "  </tbody>\n",
       "</table>\n",
       "</div>"
      ],
      "text/plain": [
       "   id                                              title  \\\n",
       "0  00  Adipisci eius quaerat quisquam amet modi velit...   \n",
       "1  01                          Dolorem eius amet magnam.   \n",
       "2  02                      Ipsum porro porro amet dolor.   \n",
       "3  03                Eius dolor amet sit ipsum quisquam.   \n",
       "4  04  Dolore quiquia modi tempora ipsum labore ipsum...   \n",
       "\n",
       "                                         description  \\\n",
       "0  Quisquam dolorem quiquia dolore ipsum quisquam...   \n",
       "1  Quisquam non quisquam voluptatem. Eius labore ...   \n",
       "2  Quisquam velit sit magnam porro. Numquam tempo...   \n",
       "3  Etincidunt voluptatem voluptatem dolor dolore ...   \n",
       "4  Ipsum dolorem amet magnam est etincidunt neque...   \n",
       "\n",
       "                                           full_text         created_date  \\\n",
       "0  Magnam tempora sed modi voluptatem adipisci ve...  29/04/2021 14:30:52   \n",
       "1  Ut etincidunt velit sit dolor. Ut non dolore d...  27/04/2021 23:01:25   \n",
       "2  Eius eius sit eius neque eius quiquia amet. Te...  28/04/2021 04:12:46   \n",
       "3  Modi porro sed quaerat est etincidunt. Labore ...  25/04/2021 09:50:10   \n",
       "4  Sed dolorem ut magnam consectetur. Ut quaerat ...  24/04/2021 03:02:18   \n",
       "\n",
       "        author                                      image  \n",
       "0  David THREE  https://picsum.photos/id/1000/400/200.jpg  \n",
       "1   Ivan EIGHT  https://picsum.photos/id/1001/400/200.jpg  \n",
       "2   Eliott ONE  https://picsum.photos/id/1002/400/200.jpg  \n",
       "3    Alice ONE  https://picsum.photos/id/1003/400/200.jpg  \n",
       "4    Frank SIX  https://picsum.photos/id/1004/400/200.jpg  "
      ]
     },
     "metadata": {},
     "output_type": "display_data"
    },
    {
     "data": {
      "text/html": [
       "15 Articles saved in articles.json"
      ],
      "text/plain": [
       "<IPython.core.display.HTML object>"
      ]
     },
     "metadata": {},
     "output_type": "display_data"
    }
   ],
   "source": [
    "# Make 15 Articles\n",
    "AM = ArticleMaker(n=15)\n",
    "articles = AM.to_df()\n",
    "\n",
    "display(HTML(\"<H1>Articles</H1>\"))\n",
    "display(articles)\n",
    "\n",
    "fn = \"articles.json\"\n",
    "AM.to_json(fn)\n",
    "display(HTML(f\"{len(articles)} Articles saved in {fn}\"))\n"
   ]
  }
 ],
 "metadata": {
  "kernelspec": {
   "display_name": "Python 3",
   "language": "python",
   "name": "python3"
  },
  "language_info": {
   "codemirror_mode": {
    "name": "ipython",
    "version": 3
   },
   "file_extension": ".py",
   "mimetype": "text/x-python",
   "name": "python",
   "nbconvert_exporter": "python",
   "pygments_lexer": "ipython3",
   "version": "3.9.2"
  }
 },
 "nbformat": 4,
 "nbformat_minor": 2
}
